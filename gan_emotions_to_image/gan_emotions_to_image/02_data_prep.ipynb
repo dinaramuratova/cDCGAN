{
 "cells": [
  {
   "cell_type": "code",
   "execution_count": 1,
   "id": "registered-tuition",
   "metadata": {},
   "outputs": [],
   "source": [
    "import os\n",
    "import json\n",
    "import pickle\n",
    "\n",
    "from PIL import Image\n",
    "from tqdm.auto import tqdm "
   ]
  },
  {
   "cell_type": "code",
   "execution_count": 2,
   "id": "bound-rapid",
   "metadata": {},
   "outputs": [
    {
     "data": {
      "text/plain": [
       "100913"
      ]
     },
     "execution_count": 2,
     "metadata": {},
     "output_type": "execute_result"
    }
   ],
   "source": [
    "raw_dataset_path = \"raw_dataset.json\"\n",
    "with open(raw_dataset_path, \"r\", encoding=\"utf-8\") as f:\n",
    "    raw_dataset = json.load(f)\n",
    "len(raw_dataset)"
   ]
  },
  {
   "cell_type": "code",
   "execution_count": 3,
   "id": "difficult-charger",
   "metadata": {
    "scrolled": true
   },
   "outputs": [
    {
     "data": {
      "application/vnd.jupyter.widget-view+json": {
       "model_id": "28a174722ec749a6a0f58c2c590bb7ef",
       "version_major": 2,
       "version_minor": 0
      },
      "text/plain": [
       "  0%|          | 0/100913 [00:00<?, ?it/s]"
      ]
     },
     "metadata": {},
     "output_type": "display_data"
    }
   ],
   "source": [
    "data_32 = []\n",
    "data_64 = []\n",
    "for item_id, item_data in tqdm(raw_dataset.items()):\n",
    "    item_path = item_data[\"path\"]\n",
    "    item_type = item_data[\"product_type\"]\n",
    "    item_emotions = item_data[\"emotions_list\"]\n",
    "    image = Image.open(item_path).convert('RGB')\n",
    "    \n",
    "    image_32 = image.resize((32, 32), Image.BILINEAR)\n",
    "    image_64 = image.resize((64, 64), Image.BILINEAR)\n",
    "    \n",
    "    data_32.append([image_32, item_type, item_emotions])\n",
    "    data_64.append([image_64, item_type, item_emotions])"
   ]
  },
  {
   "cell_type": "code",
   "execution_count": 4,
   "id": "fiscal-inflation",
   "metadata": {},
   "outputs": [],
   "source": [
    "with open(f\"prep_data_size_32.pkl\", \"wb\") as f:\n",
    "    pickle.dump(data_32, f)\n",
    "    \n",
    "with open(f\"prep_data_size_64.pkl\", \"wb\") as f:\n",
    "    pickle.dump(data_64, f)"
   ]
  },
  {
   "cell_type": "code",
   "execution_count": null,
   "id": "every-folks",
   "metadata": {},
   "outputs": [],
   "source": []
  }
 ],
 "metadata": {
  "kernelspec": {
   "display_name": "Python 3 (ipykernel)",
   "language": "python",
   "name": "python3"
  },
  "language_info": {
   "codemirror_mode": {
    "name": "ipython",
    "version": 3
   },
   "file_extension": ".py",
   "mimetype": "text/x-python",
   "name": "python",
   "nbconvert_exporter": "python",
   "pygments_lexer": "ipython3",
   "version": "3.7.9"
  }
 },
 "nbformat": 4,
 "nbformat_minor": 5
}
