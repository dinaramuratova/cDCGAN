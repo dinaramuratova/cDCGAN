{
 "cells": [
  {
   "cell_type": "code",
   "execution_count": null,
   "id": "crucial-stone",
   "metadata": {},
   "outputs": [],
   "source": [
    "import os\n",
    "import json\n",
    "import pandas as pd\n",
    "import numpy as np"
   ]
  },
  {
   "cell_type": "code",
   "execution_count": null,
   "id": "three-virgin",
   "metadata": {},
   "outputs": [],
   "source": [
    "articles_path = \"articles.csv\"\n",
    "df = pd.read_csv(articles_path)"
   ]
  },
  {
   "cell_type": "code",
   "execution_count": null,
   "id": "hawaiian-jumping",
   "metadata": {},
   "outputs": [],
   "source": [
    "types_eng2rus = {\n",
    "    \"Trousers\": \"Штаны\",\n",
    "    \"Dress\": \"Платье\",\n",
    "    \"Sweater\": \"Свитер\",\n",
    "    \"T-shirt\": \"Футболка\",\n",
    "    \"Top\": \"Топ\",\n",
    "    \"Blouse\": \"Блузка\",\n",
    "    \"Jacket\": \"Куртка\",\n",
    "    \"Shorts\": \"Шорты\",\n",
    "    \"Shirt\": \"Рубашки\",\n",
    "    \"Vest top\": \"Верх жилета\",\n",
    "    \"Underwear bottom\": \"Нижнее белье, низ\",\n",
    "    \"Skirt\": \"Юбка\",\n",
    "    \"Hoodie\": \"Толстовка с капюшоном\",\n",
    "    \"Bra\": \"Бра\",\n",
    "    \"Socks\": \"Носки\",\n",
    "    \"Leggings/Tights\": \"Леггинсы/колготки\",\n",
    "    \"Sneakers\": \"Кроссовки\",\n",
    "    \"Cardigan\": \"Кардиган\",\n",
    "    \"Hat/beanie\": \"Шапка/шапочка\",\n",
    "    \"Garment Set\": \"Комплект одежды\",\n",
    "    \"Swimwear bottom\": \"Нижняя часть купальника\",\n",
    "    \"Bag\": \"Сумки\",\n",
    "    \"Earring\": \"Серьга\",\n",
    "    \"Jumpsuit/Playsuit\": \"Комбинезон/костюм для подвижных игр\",\n",
    "    \"Pyjama set\": \"Пижамный комплект\",\n",
    "    \"Blazer\": \"Блейзер\",\n",
    "    \"Other accessories\": \"Аксессуары\",\n",
    "    \"Boots\": \"Ботинки\",\n",
    "    \"Scarf\": \"Шарф\",\n",
    "    \"Bodysuit\": \"Боди\",\n",
    "    \"Bikini top\": \"Топ-бикини\",\n",
    "    \"Sandals\": \"Сандалии\",\n",
    "    \"Swimsuit\": \"Купальник\",\n",
    "    \"Sunglasses\": \"Солнцезащитные очки\",\n",
    "    \"Necklace\": \"Ожерелье\",\n",
    "    \"Cap/peaked\": \"Колпачок\",\n",
    "    \"Underwear Tights\": \"Нижнее белье, колготки\",\n",
    "    \"Coat\": \"Пальто\",\n",
    "    \"Belt\": \"Ремень\",\n",
    "    \"Polo shirt\": \"Поло\",\n",
    "    \"Hat/brim\": \"Шляпы\",\n",
    "    \"Other shoe\": \"Обувь\",\n",
    "    \"Pyjama jumpsuit/playsuit\": \"Пижамный комбинезон/костюм для подвижных игр\",\n",
    "    \"Gloves\": \"Перчатки\",\n",
    "    \"Slippers\": \"Тапочки\",\n",
    "    \"Hair clip\": \"Зажим для волос\",\n",
    "    \"Ring\": \"Кольцо\",\n",
    "    \"Hair string\": \"Резинка для волос\",\n",
    "    \"Pyjama bottom\": \"Пижама, низ\",\n",
    "    \"Heeled sandals\": \"Сандалии\",\n",
    "    \"Swimwear set\": \"Комплект купальников\",\n",
    "    \"Bracelet\": \"Браслет\",\n",
    "    \"Underwear body\": \"Нижнее белье\",\n",
    "    \"Night gown\": \"Ночное платье\",\n",
    "    \"Outdoor trousers\": \"Брюки уличные\",\n",
    "}"
   ]
  },
  {
   "cell_type": "code",
   "execution_count": null,
   "id": "absent-territory",
   "metadata": {},
   "outputs": [],
   "source": [
    "colors_eng2rus = {\n",
    "    \"Black\": \"Черный\",\n",
    "    \"Dark Blue\": \"Темно-синий\",\n",
    "    \"White\": \"Белый\",\n",
    "    \"Light Pink\": \"Светло-розовый\",\n",
    "    \"Grey\": \"Серый\",\n",
    "    \"Light Beige\": \"Светло-бежевый\",\n",
    "    \"Blue\": \"Синий\",\n",
    "    \"Red\": \"Красный\",\n",
    "    \"Light Blue\": \"Синий\",\n",
    "    \"Greenish Khaki\": \"Бежевый\",\n",
    "    \"Dark Grey\": \"Темно-серый\",\n",
    "    \"Off White\": \"Белый\",\n",
    "    \"Beige\": \"Бежевый\",\n",
    "    \"Dark Red\": \"Бордовый\",\n",
    "    \"Dark Green\": \"Темно-зеленый\",\n",
    "    \"Light Grey\": \"Светло серый\",\n",
    "    \"Pink\": \"Розовый\",\n",
    "    \"Yellow\": \"Желтый\",\n",
    "    \"Light Orange\": \"Светло-оранжевый\",\n",
    "    \"Yellowish Brown\": \"Бежевый\",\n",
    "    \"Gold\": \"Золотой\",\n",
    "    \"Dark Beige\": \"Темно бежевый\",\n",
    "    \"Light Turquoise\": \"Светло-бирюзовый\",\n",
    "    \"Light Yellow\": \"Светло-желтый\",\n",
    "    \"Dark Orange\": \"Темно-оранжевый\",\n",
    "    \"Dark Pink\": \"Темно-розовый\",\n",
    "    \"Green\": \"Зеленый\",\n",
    "    \"Orange\": \"Оранжевый\",\n",
    "    \"Other Pink\": \"Розовый\",\n",
    "    \"Silver\": \"Серебряный\",\n",
    "    \"Light Green\": \"Светло-зеленый\",\n",
    "    \"Dark Yellow\": \"Темно-желтый\",\n",
    "    \"Light Purple\": \"Светло-фиолетовый\",\n",
    "    \"Dark Turquoise\": \"Темно-Бирюзовый\",\n",
    "    \"Turquoise\": \"Бирюзовый\",\n",
    "    \"Dark Purple\": \"Темно-фиолетовый\",\n",
    "    \"Light Red\": \"Светло-красный\",\n",
    "    \"Greyish Beige\": \"Серовато-бежевый\",\n",
    "    \"Other Yellow\": \"Желтый\",\n",
    "    \"Purple\": \"Фиолетовый\",\n",
    "    \"Other Orange\": \"Оранжевый\",\n",
    "    \"Other Green\": \"Зеленый\",\n",
    "    \"Other Red\": \"Красный\",\n",
    "}"
   ]
  },
  {
   "cell_type": "code",
   "execution_count": null,
   "id": "compact-garbage",
   "metadata": {},
   "outputs": [],
   "source": [
    "color_to_emotion = {\n",
    "    \"Бордовый\": ['Роскошь', 'Богатство', 'Изысканность', 'Страсть', 'Власть', 'Драматизм', 'Агрессия'],\n",
    "    \"Белый\": ['Чистота', 'Невинность', 'Свежесть', 'Простота', 'Ясность', 'Холодность', 'Стерильность'],\n",
    "    \"Золотой\": ['Богатство', 'Успех', 'Процветание', 'Роскошь', 'Тепло', 'Мудрость', 'Радость'],\n",
    "    \"Красный\": ['Страсть', 'Любовь', 'Энергия', 'Опасность', 'Гнев', 'Возбуждение', 'Агрессия'],\n",
    "    \"Розовый\": ['Романтика', 'Нежность', 'Любовь', 'Сладость', 'Женственность', 'Наивность', 'Мечтательность'],\n",
    "    \"Серебряный\": ['Элегантность', 'Изысканность', 'Гламур', 'Современность', 'Холодность', 'Отчужденность'],\n",
    "    \"Серый\": ['Нейтральность', 'Спокойствие', 'Уныние', 'Депрессия', 'Формальность', 'Консерватизм'],\n",
    "    \"Синий\": ['Доверие', 'Спокойствие', 'Умиротворение', 'Печаль', 'Депрессия', 'Надежность', 'Стабильность'],\n",
    "    \"Фиолетовый\": ['Мистика', 'Духовность', 'Творчество', 'Роскошь', 'Ностальгия', 'Амбициозность'],\n",
    "    \"Бежевый\": ['Природа', 'Практичность', 'Защита', 'Военщина', 'Маскулинность', 'Уверенность'],\n",
    "    \"Черный\": ['Тайна', 'Сила', 'Элегантность', 'Печаль', 'Депрессия', 'Страх', 'Зло'],\n",
    "    \"Зеленый\": ['Жизнь', 'Обновление', 'Природа', 'Энергия'],\n",
    "    \"Желтый\": ['Солнце', 'Тепло', 'Радость'],\n",
    "    \"Бирюзовый\": ['Гармония', 'Целостность', 'Уравновешенность', 'Спокойствие'],\n",
    "    \"Оранжевый\": ['Энтузиазм', 'Возбуждение', 'Движение', 'Энергия'],\n",
    "}"
   ]
  },
  {
   "cell_type": "code",
   "execution_count": null,
   "id": "congressional-cross",
   "metadata": {},
   "outputs": [],
   "source": [
    "df.head(3)"
   ]
  },
  {
   "cell_type": "code",
   "execution_count": null,
   "id": "later-forestry",
   "metadata": {},
   "outputs": [],
   "source": [
    "image_path = \"images_hm/\"\n",
    "all_image_paths = {}\n",
    "for folder in os.listdir(image_path):\n",
    "    cur_path = image_path + folder + '/'\n",
    "    for img_file in os.listdir(cur_path):\n",
    "        img_name = int(img_file.split(\".\")[0])\n",
    "        all_image_paths[img_name] = cur_path + img_file\n",
    "len(all_image_paths)"
   ]
  },
  {
   "cell_type": "code",
   "execution_count": null,
   "id": "functional-diabetes",
   "metadata": {},
   "outputs": [],
   "source": [
    "# test_key = list(all_image_paths.keys())[10]\n",
    "# test_key, all_image_paths[test_key]"
   ]
  },
  {
   "cell_type": "code",
   "execution_count": null,
   "id": "opposed-surname",
   "metadata": {},
   "outputs": [],
   "source": [
    "raw_dataset = {}\n",
    "for idx, row in df.iterrows():\n",
    "    article_id = row.article_id\n",
    "    product_type_name = row.product_type_name\n",
    "    colour_group_name = row.colour_group_name\n",
    "    \n",
    "    product_type = types_eng2rus.get(product_type_name)\n",
    "    colour_group = colors_eng2rus.get(colour_group_name)\n",
    "\n",
    "    if not all([product_type, colour_group]):\n",
    "        continue\n",
    "    \n",
    "    emotion_keys = [x for x in color_to_emotion.keys() if x.lower() in colour_group.lower()]\n",
    "    if len(emotion_keys):\n",
    "        emotions_list = color_to_emotion[emotion_keys[0]]\n",
    "        image_path = all_image_paths.get(article_id)\n",
    "        if image_path is not None:\n",
    "            raw_dataset[article_id] = {\n",
    "                \"path\": image_path,\n",
    "                \"product_type\": product_type,\n",
    "                \"colour_group\": colour_group,\n",
    "                \"emotions_list\": emotions_list\n",
    "            }\n",
    "            \n",
    "len(raw_dataset)"
   ]
  },
  {
   "cell_type": "code",
   "execution_count": null,
   "id": "catholic-millennium",
   "metadata": {},
   "outputs": [],
   "source": [
    "test_key = list(raw_dataset.keys())[10]\n",
    "test_key, raw_dataset[test_key]"
   ]
  },
  {
   "cell_type": "code",
   "execution_count": null,
   "id": "mathematical-winning",
   "metadata": {},
   "outputs": [],
   "source": [
    "with open(\"raw_dataset.json\", \"w\", encoding=\"utf-8\") as f:\n",
    "    json.dump(raw_dataset, f, ensure_ascii=False, indent=4)"
   ]
  },
  {
   "cell_type": "code",
   "execution_count": null,
   "id": "stunning-youth",
   "metadata": {},
   "outputs": [],
   "source": []
  }
 ],
 "metadata": {
  "kernelspec": {
   "display_name": "Python 3 (ipykernel)",
   "language": "python",
   "name": "python3"
  },
  "language_info": {
   "codemirror_mode": {
    "name": "ipython",
    "version": 3
   },
   "file_extension": ".py",
   "mimetype": "text/x-python",
   "name": "python",
   "nbconvert_exporter": "python",
   "pygments_lexer": "ipython3",
   "version": "3.7.9"
  }
 },
 "nbformat": 4,
 "nbformat_minor": 5
}
